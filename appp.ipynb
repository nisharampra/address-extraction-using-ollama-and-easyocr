{
 "cells": [
  {
   "cell_type": "code",
   "execution_count": null,
   "metadata": {},
   "outputs": [],
   "source": [
    "!pip install easyocr langchain_ollama Pillow\n"
   ]
  },
  {
   "cell_type": "code",
   "execution_count": null,
   "metadata": {},
   "outputs": [],
   "source": [
    "!pip install langchain-ollama\n"
   ]
  },
  {
   "cell_type": "code",
   "execution_count": null,
   "metadata": {},
   "outputs": [],
   "source": [
    "!ollama serve\n"
   ]
  },
  {
   "cell_type": "code",
   "execution_count": null,
   "metadata": {},
   "outputs": [],
   "source": [
    "import easyocr\n",
    "from langchain_ollama import OllamaLLM  \n",
    "from langchain.prompts import PromptTemplate\n",
    "from langchain.chains import LLMChain\n",
    "from langchain.callbacks.streaming_stdout import StreamingStdOutCallbackHandler\n",
    "from PIL import Image\n",
    "\n",
    "# Step 1: OCR using EasyOCR\n",
    "def extract_text_from_image(image_path):\n",
    "    reader = easyocr.Reader(['en'])\n",
    "    ocr_text = reader.readtext(image_path, detail=0)\n",
    "    return ' '.join(ocr_text)\n",
    "\n",
    "# Step 2: Setup LLaMA 2 via Ollama\n",
    "llm = OllamaLLM(\n",
    "    model=\"llama2\",\n",
    "    callbacks=[StreamingStdOutCallbackHandler()]\n",
    ")\n",
    "\n",
    "# Address extraction prompt template\n",
    "template = \"\"\"\n",
    "Extract the address from the following Indian driver's license text:\n",
    "\n",
    "{text}\n",
    "\n",
    "Provide the address in a structured format:\n",
    "Street Address, Locality, City, State, PIN Code.\n",
    "\"\"\"\n",
    "\n",
    "prompt = PromptTemplate(\n",
    "    input_variables=[\"text\"],\n",
    "    template=template\n",
    ")\n",
    "\n",
    "# Create the chain\n",
    "llm_chain = LLMChain(prompt=prompt, llm=llm)\n",
    "\n",
    "# Step 3: Process the image\n",
    "image_path = \"\"  # Replace with your image file\n",
    "ocr_text = extract_text_from_image(image_path)\n",
    "print(\"OCR Text:\", ocr_text)\n",
    "\n",
    "# Step 4: Pass OCR text to LLaMA 2 for address extraction\n",
    "response = llm_chain.run(ocr_text)\n",
    "print(\"Extracted Address:\", response)\n"
   ]
  }
 ],
 "metadata": {
  "kernelspec": {
   "display_name": "base",
   "language": "python",
   "name": "python3"
  },
  "language_info": {
   "name": "python",
   "version": "3.12.2"
  }
 },
 "nbformat": 4,
 "nbformat_minor": 2
}
